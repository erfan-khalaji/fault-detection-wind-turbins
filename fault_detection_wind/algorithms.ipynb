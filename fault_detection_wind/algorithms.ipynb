{
 "cells": [
  {
   "cell_type": "code",
   "execution_count": 1,
   "metadata": {},
   "outputs": [],
   "source": [
    "import os\n",
    "import time\n",
    "\n",
    "#data manipulation\n",
    "import numpy as np\n",
    "import pandas as pd\n",
    "\n",
    "#learning methods\n",
    "from sklearn.tree import DecisionTreeRegressor\n",
    "from sklearn.ensemble import ExtraTreesRegressor\n",
    "from sklearn.ensemble import RandomForestRegressor\n",
    "from sklearn.ensemble import GradientBoostingRegressor\n",
    "from sklearn.ensemble import AdaBoostRegressor\n",
    "from sklearn.ensemble import VotingRegressor\n",
    "from sklearn.ensemble import BaggingRegressor\n",
    "from sklearn.svm import SVR\n",
    "from sklearn.neighbors import KNeighborsRegressor\n",
    "from sklearn.gaussian_process import GaussianProcessRegressor\n",
    "from sklearn.neural_network import MLPRegressor\n",
    "from sklearn.linear_model import LinearRegression\n",
    "\n",
    "#Splitting the data\n",
    "from sklearn.model_selection import train_test_split\n",
    "\n",
    "import seaborn as sns\n",
    "import matplotlib.pyplot as plt\n",
    "\n",
    "%matplotlib inline\n",
    "\n",
    "#Evaluation methods\n",
    "from sklearn.metrics import mean_squared_error\n",
    "from sklearn.metrics import mean_absolute_error\n",
    "from sklearn.metrics import r2_score\n",
    "\n",
    "\n",
    "from sklearn.model_selection import cross_val_score"
   ]
  },
  {
   "cell_type": "code",
   "execution_count": 2,
   "metadata": {},
   "outputs": [],
   "source": [
    "def feed_data(reg):\n",
    "    data = pd.read_csv(\"final.csv\")\n",
    "    y = data['Gb2t_avg']\n",
    "    X = data.drop('Gb2t_avg', axis=1)\n",
    "    X_train, X_test, y_train, y_test = train_test_split(X, y, test_size=0.2)\n",
    "    reg = reg.fit(X_train, y_train)\n",
    "    predictions = reg.predict(X_test)\n",
    "    \n",
    "    mse = mean_squared_error(y_test, predictions)\n",
    "    mae = mean_absolute_error(y_test, predictions)\n",
    "    r2 = r2_score(y_test, predictions)\n",
    "    \n",
    "    return mse, mae, r2\n",
    "\n",
    "def experiment_report():\n",
    "    \n",
    "    file_address = 'log_fold.txt'\n",
    "    if os.path.exists(file_address):\n",
    "        os.remove(file_address)\n",
    "        f = open(file_address, \"w+\")\n",
    "    else:\n",
    "        f = open(file_address, \"w+\")\n",
    "\n",
    "    regressors = [\n",
    "        ExtraTreesRegressor(),\n",
    "        RandomForestRegressor(),\n",
    "        GradientBoostingRegressor(),\n",
    "        AdaBoostRegressor(),\n",
    "        KNeighborsRegressor(),\n",
    "        DecisionTreeRegressor(),\n",
    "        BaggingRegressor(ExtraTreesRegressor()),\n",
    "       LinearRegression(),\n",
    "       MLPRegressor(),\n",
    "    ]\n",
    "\n",
    "    for reg in regressors:\n",
    "        start = time.time()\n",
    "        mse, mae, r2 = feed_data(reg)\n",
    "        time_taken=(time.time()-start)\n",
    "        f.write(\"Regressor Name: {}\\n\".format(reg.__class__.__name__))\n",
    "        f.write(\"MSE: {}\\n\".format(mse))\n",
    "        f.write(\"MAE: {}\\n\".format(mae))\n",
    "        f.write(\"R2: {}\\n\".format(r2))\n",
    "        f.write(\"Time: {}\\n\".format(time_taken))\n",
    "        f.write(\"##############################\\n\")"
   ]
  },
  {
   "cell_type": "code",
   "execution_count": 3,
   "metadata": {},
   "outputs": [
    {
     "name": "stderr",
     "output_type": "stream",
     "text": [
      "/home/e/anaconda3/lib/python3.7/site-packages/sklearn/ensemble/forest.py:245: FutureWarning: The default value of n_estimators will change from 10 in version 0.20 to 100 in 0.22.\n",
      "  \"10 in version 0.20 to 100 in 0.22.\", FutureWarning)\n",
      "/home/e/anaconda3/lib/python3.7/site-packages/sklearn/ensemble/forest.py:245: FutureWarning: The default value of n_estimators will change from 10 in version 0.20 to 100 in 0.22.\n",
      "  \"10 in version 0.20 to 100 in 0.22.\", FutureWarning)\n",
      "/home/e/anaconda3/lib/python3.7/site-packages/sklearn/ensemble/forest.py:245: FutureWarning: The default value of n_estimators will change from 10 in version 0.20 to 100 in 0.22.\n",
      "  \"10 in version 0.20 to 100 in 0.22.\", FutureWarning)\n",
      "/home/e/anaconda3/lib/python3.7/site-packages/sklearn/ensemble/forest.py:245: FutureWarning: The default value of n_estimators will change from 10 in version 0.20 to 100 in 0.22.\n",
      "  \"10 in version 0.20 to 100 in 0.22.\", FutureWarning)\n",
      "/home/e/anaconda3/lib/python3.7/site-packages/sklearn/ensemble/forest.py:245: FutureWarning: The default value of n_estimators will change from 10 in version 0.20 to 100 in 0.22.\n",
      "  \"10 in version 0.20 to 100 in 0.22.\", FutureWarning)\n",
      "/home/e/anaconda3/lib/python3.7/site-packages/sklearn/ensemble/forest.py:245: FutureWarning: The default value of n_estimators will change from 10 in version 0.20 to 100 in 0.22.\n",
      "  \"10 in version 0.20 to 100 in 0.22.\", FutureWarning)\n",
      "/home/e/anaconda3/lib/python3.7/site-packages/sklearn/ensemble/forest.py:245: FutureWarning: The default value of n_estimators will change from 10 in version 0.20 to 100 in 0.22.\n",
      "  \"10 in version 0.20 to 100 in 0.22.\", FutureWarning)\n",
      "/home/e/anaconda3/lib/python3.7/site-packages/sklearn/ensemble/forest.py:245: FutureWarning: The default value of n_estimators will change from 10 in version 0.20 to 100 in 0.22.\n",
      "  \"10 in version 0.20 to 100 in 0.22.\", FutureWarning)\n",
      "/home/e/anaconda3/lib/python3.7/site-packages/sklearn/ensemble/forest.py:245: FutureWarning: The default value of n_estimators will change from 10 in version 0.20 to 100 in 0.22.\n",
      "  \"10 in version 0.20 to 100 in 0.22.\", FutureWarning)\n",
      "/home/e/anaconda3/lib/python3.7/site-packages/sklearn/ensemble/forest.py:245: FutureWarning: The default value of n_estimators will change from 10 in version 0.20 to 100 in 0.22.\n",
      "  \"10 in version 0.20 to 100 in 0.22.\", FutureWarning)\n",
      "/home/e/anaconda3/lib/python3.7/site-packages/sklearn/ensemble/forest.py:245: FutureWarning: The default value of n_estimators will change from 10 in version 0.20 to 100 in 0.22.\n",
      "  \"10 in version 0.20 to 100 in 0.22.\", FutureWarning)\n",
      "/home/e/anaconda3/lib/python3.7/site-packages/sklearn/ensemble/forest.py:245: FutureWarning: The default value of n_estimators will change from 10 in version 0.20 to 100 in 0.22.\n",
      "  \"10 in version 0.20 to 100 in 0.22.\", FutureWarning)\n"
     ]
    }
   ],
   "source": [
    "experiment_report()"
   ]
  },
  {
   "cell_type": "code",
   "execution_count": null,
   "metadata": {},
   "outputs": [],
   "source": [
    "## DATA VISUALIZATION"
   ]
  },
  {
   "cell_type": "code",
   "execution_count": null,
   "metadata": {},
   "outputs": [],
   "source": [
    "data = pd.read_csv(\"final.csv\")\n",
    "y = data['Gb2t_avg']\n",
    "X = data.drop('Gb2t_avg', axis=1)\n",
    "X_train, X_test, y_train, y_test = train_test_split(X, y, test_size=0.2)\n",
    "reg = BaggingRegressor()\n",
    "reg = reg.fit(X_train, y_train)\n",
    "predictions = reg.predict(X_test)"
   ]
  },
  {
   "cell_type": "code",
   "execution_count": null,
   "metadata": {},
   "outputs": [],
   "source": [
    "ax = sns.lineplot(x=\"timepoint\", y=\"signal\", hue=\"event\",\n",
    "\n",
    "units=\"subject\", estimator=None, lw=1,\n",
    "\n",
    "                  data=fmri.query(\"region == 'frontal'\"))"
   ]
  },
  {
   "cell_type": "code",
   "execution_count": null,
   "metadata": {},
   "outputs": [],
   "source": [
    "np.shape(X)"
   ]
  },
  {
   "cell_type": "code",
   "execution_count": null,
   "metadata": {},
   "outputs": [],
   "source": [
    "20/100*201865"
   ]
  },
  {
   "cell_type": "code",
   "execution_count": null,
   "metadata": {},
   "outputs": [],
   "source": [
    "number_of_datapoint = [i for i in range(0,40373)]"
   ]
  },
  {
   "cell_type": "code",
   "execution_count": null,
   "metadata": {},
   "outputs": [],
   "source": [
    "a4_dims = (20, 10)\n",
    "fig, ax = plt.subplots(figsize=a4_dims)\n",
    "ax = sns.lineplot(x=number_of_datapoint, y=predictions, estimator=None, lw=1, data=data)"
   ]
  },
  {
   "cell_type": "code",
   "execution_count": null,
   "metadata": {},
   "outputs": [],
   "source": [
    "a4_dims = (30, 10)\n",
    "fig, ax = plt.subplots(figsize=a4_dims)\n",
    "ax = sns.lineplot(x=number_of_datapoint, y=predictions, estimator=None, lw=1, data=data)"
   ]
  },
  {
   "cell_type": "code",
   "execution_count": null,
   "metadata": {},
   "outputs": [],
   "source": [
    "results = pd.DataFrame()\n",
    "# preds = pd.DataFrame(data=predictions)\n",
    "#results = pd.concat([y_test], axis=1)\n",
    "#results['predictions'] = pd.DataFrame(data=prediction)\n",
    "#results.head(20)"
   ]
  },
  {
   "cell_type": "code",
   "execution_count": null,
   "metadata": {},
   "outputs": [],
   "source": [
    "np.shape(y_test)"
   ]
  },
  {
   "cell_type": "code",
   "execution_count": null,
   "metadata": {},
   "outputs": [],
   "source": [
    "np.shape(predictions)"
   ]
  },
  {
   "cell_type": "code",
   "execution_count": null,
   "metadata": {},
   "outputs": [],
   "source": [
    "number_of_datapoint = [i for i in range(0,3000)]\n",
    "pred_val = predictions[:3000]\n",
    "actual_val = y_test[:3000]"
   ]
  },
  {
   "cell_type": "code",
   "execution_count": null,
   "metadata": {},
   "outputs": [],
   "source": [
    "np.shape(predictions)"
   ]
  },
  {
   "cell_type": "code",
   "execution_count": null,
   "metadata": {},
   "outputs": [],
   "source": [
    "np.shape(y_test)"
   ]
  },
  {
   "cell_type": "code",
   "execution_count": null,
   "metadata": {},
   "outputs": [],
   "source": [
    "number_of_datapoint = [i for i in range(0,40373)]\n",
    "\n",
    "fig = plt.figure(figsize=(16,10), dpi=200)\n",
    "plt.plot(number_of_datapoint, predictions, marker=\".\", color=\"blue\")\n",
    "plt.plot(number_of_datapoint, y_test, marker=\".\", color=\"green\")\n",
    "plt.show()"
   ]
  },
  {
   "cell_type": "code",
   "execution_count": null,
   "metadata": {},
   "outputs": [],
   "source": [
    "#error = abs(actual_val-pred_val)\n",
    "#error = abs(y_test-predictions)"
   ]
  },
  {
   "cell_type": "code",
   "execution_count": null,
   "metadata": {},
   "outputs": [],
   "source": [
    "a4_dims = (16, 10)\n",
    "fig, ax = plt.subplots(figsize=a4_dims)\n",
    "plt.axhline(y=2.5, color=\"Yellow\")\n",
    "plt.axhline(y=4, color=\"Red\")\n",
    "ax = sns.lineplot(x=number_of_datapoint, y=error, estimator=None, lw=1, data=data)"
   ]
  },
  {
   "cell_type": "code",
   "execution_count": null,
   "metadata": {},
   "outputs": [],
   "source": [
    "# GOOD ONE IS BAGGING CLASSIFER"
   ]
  },
  {
   "cell_type": "code",
   "execution_count": null,
   "metadata": {},
   "outputs": [],
   "source": [
    "data = pd.read_csv(\"final.csv\")\n",
    "y = data['Gb2t_avg']\n",
    "X = data.drop('Gb2t_avg', axis=1)\n",
    "X_train, X_test, y_train, y_test = train_test_split(X, y, test_size=0.2)\n",
    "reg = BaggingRegressor()\n",
    "reg = reg.fit(X_train, y_train)\n",
    "predictions = reg.predict(X_test)"
   ]
  },
  {
   "cell_type": "code",
   "execution_count": null,
   "metadata": {},
   "outputs": [],
   "source": [
    "number_of_datapoint = [i for i in range(0,3000)]\n",
    "pred_val = predictions[:3000]\n",
    "actual_val = y_test[:3000]\n",
    "error = abs(y_test-pred_val)\n",
    "a4_dims = (16, 10)\n",
    "fig, ax = plt.subplots(figsize=a4_dims)\n",
    "\n",
    "plt.axhline(y=2.5, color=\"Yellow\")\n",
    "plt.axhline(y=4, color=\"Red\")\n",
    "\n",
    "ax = sns.lineplot(x=number_of_datapoint, y=error, estimator=None, lw=1, data=data)"
   ]
  },
  {
   "cell_type": "code",
   "execution_count": null,
   "metadata": {},
   "outputs": [],
   "source": [
    "#lower = [i for i in error if i>=2.5]\n",
    "output_lower = list()\n",
    "\n",
    "counter = 0\n",
    "for i in error:\n",
    "    if(i>=2.5):\n",
    "        output_lower.append(number_of_datapoint[counter])\n",
    "    counter += 1"
   ]
  },
  {
   "cell_type": "code",
   "execution_count": null,
   "metadata": {},
   "outputs": [],
   "source": [
    "output_lower"
   ]
  },
  {
   "cell_type": "code",
   "execution_count": null,
   "metadata": {},
   "outputs": [],
   "source": [
    "#lower = [i for i in error if i>=2.5]\n",
    "output_upper = list()\n",
    "\n",
    "counter = 0\n",
    "for i in error:\n",
    "    if(i>=4):\n",
    "        output_upper.append(number_of_datapoint[counter])\n",
    "    counter += 1"
   ]
  },
  {
   "cell_type": "code",
   "execution_count": null,
   "metadata": {},
   "outputs": [],
   "source": [
    "output_upper"
   ]
  },
  {
   "cell_type": "code",
   "execution_count": null,
   "metadata": {},
   "outputs": [],
   "source": [
    "number_of_datapoint = [i for i in range(0,2100)]\n",
    "pred_val = predictions[400:2500]\n",
    "actual_val = y_test[400:2500]\n",
    "error = abs(actual_val-pred_val)\n",
    "a4_dims = (16, 10)\n",
    "fig, ax = plt.subplots(figsize=a4_dims)\n",
    "\n",
    "plt.axhline(y=2.5, color=\"Yellow\")\n",
    "plt.axhline(y=4, color=\"Red\")\n",
    "\n",
    "ax = sns.lineplot(x=number_of_datapoint, y=error, estimator=None, lw=1, data=data)"
   ]
  },
  {
   "cell_type": "code",
   "execution_count": null,
   "metadata": {},
   "outputs": [],
   "source": [
    "number_of_datapoint = [i for i in range(0,40373)]\n",
    "fig = plt.figure(figsize=(16,10), dpi=200)\n",
    "plt.plot(number_of_datapoint, predictions, marker=\".\", color=\"blue\")\n",
    "plt.plot(number_of_datapoint, y_test, marker=\".\", color=\"green\")\n",
    "plt.show()\n",
    "\n",
    "\n",
    "a4_dims = (16, 10)\n",
    "fig, ax = plt.subplots(figsize=a4_dims)\n",
    "plt.axhline(y=2.5, color=\"Yellow\")\n",
    "plt.axhline(y=4, color=\"Red\")\n",
    "ax = sns.lineplot(x=number_of_datapoint, y=error, estimator=None, lw=1, data=data)"
   ]
  },
  {
   "cell_type": "code",
   "execution_count": null,
   "metadata": {},
   "outputs": [],
   "source": [
    "number_of_datapoint = [i for i in range(0,12000)]\n",
    "pred_val = predictions[15000:27000]\n",
    "actual_val = y_test[15000:27000]\n",
    "error = abs(actual_val-pred_val)\n",
    "a4_dims = (16, 10)\n",
    "fig, ax = plt.subplots(figsize=a4_dims)\n",
    "\n",
    "plt.axhline(y=2.5, color=\"Yellow\")\n",
    "plt.axhline(y=4, color=\"Red\")\n",
    "\n",
    "ax = sns.lineplot(x=number_of_datapoint, y=error, estimator=None, lw=1, data=data)"
   ]
  },
  {
   "cell_type": "code",
   "execution_count": null,
   "metadata": {},
   "outputs": [],
   "source": [
    "output_upper = list()\n",
    "\n",
    "counter = 0\n",
    "for i in error:\n",
    "    if(i>2.5):\n",
    "        output_upper.append(i)\n",
    "        print(counter)\n",
    "    counter += 1"
   ]
  },
  {
   "cell_type": "code",
   "execution_count": null,
   "metadata": {},
   "outputs": [],
   "source": [
    "output_upper"
   ]
  },
  {
   "cell_type": "code",
   "execution_count": null,
   "metadata": {},
   "outputs": [],
   "source": [
    "# With the best regression (bagging ) at time 12047 we get approximately 2.6\n",
    "#Now we try the upper limit\n",
    "\n",
    "\n",
    "output_upper = list()\n",
    "\n",
    "counter = 0\n",
    "for i in error:\n",
    "    if(i>4):\n",
    "        output_upper.append(i)\n",
    "        print(counter)\n",
    "    counter += 1"
   ]
  },
  {
   "cell_type": "code",
   "execution_count": null,
   "metadata": {},
   "outputs": [],
   "source": [
    "output_upper"
   ]
  },
  {
   "cell_type": "code",
   "execution_count": null,
   "metadata": {},
   "outputs": [],
   "source": [
    "# At time 19678 we get the first upper bound arround 4.8"
   ]
  }
 ],
 "metadata": {
  "kernelspec": {
   "display_name": "Python 3",
   "language": "python",
   "name": "python3"
  },
  "language_info": {
   "codemirror_mode": {
    "name": "ipython",
    "version": 3
   },
   "file_extension": ".py",
   "mimetype": "text/x-python",
   "name": "python",
   "nbconvert_exporter": "python",
   "pygments_lexer": "ipython3",
   "version": "3.7.3"
  }
 },
 "nbformat": 4,
 "nbformat_minor": 4
}
